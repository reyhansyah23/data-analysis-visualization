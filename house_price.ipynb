{
  "cells": [
    {
      "cell_type": "code",
      "execution_count": 1,
      "metadata": {
        "id": "sjwYh8y9tcj1"
      },
      "outputs": [],
      "source": [
        "import warnings; warnings.simplefilter('ignore')\n",
        "import pandas as pd, matplotlib.pyplot as plt, seaborn as sns, numpy as np\n",
        "import matplotlib.cm as cm\n",
        "from collections import Counter\n",
        "plt.style.use('bmh'); sns.set()"
      ]
    },
    {
      "cell_type": "code",
      "execution_count": 6,
      "metadata": {
        "colab": {
          "base_uri": "https://localhost:8080/"
        },
        "id": "j4EUAaJctjm3",
        "outputId": "551023af-efdc-4261-b35b-793b7344fed0"
      },
      "outputs": [],
      "source": [
        "# Importing CSV data  https://pandas.pydata.org/pandas-docs/stable/reference/api/pandas.read_csv.html\n",
        "try:\n",
        "    # Running Locally \n",
        "    price = pd.read_csv('data/price.csv')\n",
        "except:\n",
        "    # # Running in Google Colab\n",
        "    # !mkdir data\n",
        "    # !wget -P data/ https://raw.githubusercontent.com/taudata-indonesia/eLearning/master/data/price.csv\n",
        "    url = \"https://raw.githubusercontent.com/taudata-indonesia/eLearning/master/data/price.csv\"\n",
        "    # price = pd.read_csv('data/price.csv')\n",
        "    price = pd.read_csv(url)"
      ]
    },
    {
      "cell_type": "code",
      "execution_count": 7,
      "metadata": {
        "colab": {
          "base_uri": "https://localhost:8080/"
        },
        "id": "X0CMrKXbtlN0",
        "outputId": "25bb001d-0ad2-4d9d-9d6d-e25f9ac11e60"
      },
      "outputs": [
        {
          "name": "stdout",
          "output_type": "stream",
          "text": [
            "<class 'pandas.core.frame.DataFrame'>\n",
            "Int64Index: 931 entries, 0 to 931\n",
            "Data columns (total 9 columns):\n",
            " #   Column         Non-Null Count  Dtype   \n",
            "---  ------         --------------  -----   \n",
            " 0   Dist_Taxi      918 non-null    float64 \n",
            " 1   Dist_Market    918 non-null    float64 \n",
            " 2   Dist_Hospital  930 non-null    float64 \n",
            " 3   Carpet         923 non-null    float64 \n",
            " 4   Builtup        916 non-null    float64 \n",
            " 5   Parking        931 non-null    category\n",
            " 6   City_Category  931 non-null    category\n",
            " 7   Rainfall       931 non-null    int64   \n",
            " 8   House_Price    931 non-null    int64   \n",
            "dtypes: category(2), float64(5), int64(2)\n",
            "memory usage: 60.3 KB\n"
          ]
        }
      ],
      "source": [
        "# Dari EDA-01 - Bisa juga Load PreProcessed Data\n",
        "price.drop(\"Observation\", axis=1, inplace=True)\n",
        "price.drop_duplicates(inplace=True)\n",
        "price['Parking'] = price['Parking'].astype('category')\n",
        "price['City_Category'] = price['City_Category'].astype('category')\n",
        "price2 = price[np.abs(price.House_Price - price.House_Price.mean())<=(2*price.House_Price.std())]\n",
        "price2.info()"
      ]
    },
    {
      "cell_type": "code",
      "execution_count": 8,
      "metadata": {
        "colab": {
          "base_uri": "https://localhost:8080/",
          "height": 285
        },
        "id": "kZfHl3KvtrFF",
        "outputId": "27578d7b-5038-4004-925f-d644c62a00a3"
      },
      "outputs": [
        {
          "data": {
            "image/png": "[encoded data removed]",
            "text/plain": [
              "<Figure size 432x288 with 1 Axes>"
            ]
          },
          "metadata": {},
          "output_type": "display_data"
        }
      ],
      "source": [
        "# BoxPlots\n",
        "p = sns.boxplot(x=\"House_Price\", y=\"Parking\", data=price2)"
      ]
    },
    {
      "cell_type": "markdown",
      "metadata": {
        "id": "L-lbkiZBt1GP"
      },
      "source": [
        "#### 1"
      ]
    },
    {
      "cell_type": "code",
      "execution_count": 15,
      "metadata": {
        "colab": {
          "base_uri": "https://localhost:8080/",
          "height": 99
        },
        "id": "BGoyocCLtsuW",
        "outputId": "2d209580-b1a0-406a-f232-ed94425bec4c"
      },
      "outputs": [
        {
          "name": "stdout",
          "output_type": "stream",
          "text": [
            "Q1 =4658000.0, Q3 =7180500.0, IQR =2522500.0\n",
            "\n",
            "Lower Outliers\n"
          ]
        },
        {
          "data": {
            "text/html": [
              "<div>\n",
              "<style scoped>\n",
              "    .dataframe tbody tr th:only-of-type {\n",
              "        vertical-align: middle;\n",
              "    }\n",
              "\n",
              "    .dataframe tbody tr th {\n",
              "        vertical-align: top;\n",
              "    }\n",
              "\n",
              "    .dataframe thead th {\n",
              "        text-align: right;\n",
              "    }\n",
              "</style>\n",
              "<table border=\"1\" class=\"dataframe\">\n",
              "  <thead>\n",
              "    <tr style=\"text-align: right;\">\n",
              "      <th></th>\n",
              "      <th>Dist_Taxi</th>\n",
              "      <th>Dist_Market</th>\n",
              "      <th>Dist_Hospital</th>\n",
              "      <th>Carpet</th>\n",
              "      <th>Builtup</th>\n",
              "      <th>Parking</th>\n",
              "      <th>City_Category</th>\n",
              "      <th>Rainfall</th>\n",
              "      <th>House_Price</th>\n",
              "    </tr>\n",
              "  </thead>\n",
              "  <tbody>\n",
              "    <tr>\n",
              "      <th>811</th>\n",
              "      <td>NaN</td>\n",
              "      <td>NaN</td>\n",
              "      <td>NaN</td>\n",
              "      <td>NaN</td>\n",
              "      <td>NaN</td>\n",
              "      <td>Open</td>\n",
              "      <td>CAT A</td>\n",
              "      <td>440</td>\n",
              "      <td>30000</td>\n",
              "    </tr>\n",
              "  </tbody>\n",
              "</table>\n",
              "</div>"
            ],
            "text/plain": [
              "     Dist_Taxi  Dist_Market  Dist_Hospital  Carpet  Builtup Parking  \\\n",
              "811        NaN          NaN            NaN     NaN      NaN    Open   \n",
              "\n",
              "    City_Category  Rainfall  House_Price  \n",
              "811         CAT A       440        30000  "
            ]
          },
          "metadata": {},
          "output_type": "display_data"
        },
        {
          "name": "stdout",
          "output_type": "stream",
          "text": [
            "\n",
            "Upper Outliers\n"
          ]
        },
        {
          "data": {
            "text/html": [
              "<div>\n",
              "<style scoped>\n",
              "    .dataframe tbody tr th:only-of-type {\n",
              "        vertical-align: middle;\n",
              "    }\n",
              "\n",
              "    .dataframe tbody tr th {\n",
              "        vertical-align: top;\n",
              "    }\n",
              "\n",
              "    .dataframe thead th {\n",
              "        text-align: right;\n",
              "    }\n",
              "</style>\n",
              "<table border=\"1\" class=\"dataframe\">\n",
              "  <thead>\n",
              "    <tr style=\"text-align: right;\">\n",
              "      <th></th>\n",
              "      <th>Dist_Taxi</th>\n",
              "      <th>Dist_Market</th>\n",
              "      <th>Dist_Hospital</th>\n",
              "      <th>Carpet</th>\n",
              "      <th>Builtup</th>\n",
              "      <th>Parking</th>\n",
              "      <th>City_Category</th>\n",
              "      <th>Rainfall</th>\n",
              "      <th>House_Price</th>\n",
              "    </tr>\n",
              "  </thead>\n",
              "  <tbody>\n",
              "    <tr>\n",
              "      <th>678</th>\n",
              "      <td>7288.0</td>\n",
              "      <td>9560.0</td>\n",
              "      <td>12531.0</td>\n",
              "      <td>1989.0</td>\n",
              "      <td>2414.0</td>\n",
              "      <td>No Parking</td>\n",
              "      <td>CAT A</td>\n",
              "      <td>860</td>\n",
              "      <td>11632000</td>\n",
              "    </tr>\n",
              "  </tbody>\n",
              "</table>\n",
              "</div>"
            ],
            "text/plain": [
              "     Dist_Taxi  Dist_Market  Dist_Hospital  Carpet  Builtup     Parking  \\\n",
              "678     7288.0       9560.0        12531.0  1989.0   2414.0  No Parking   \n",
              "\n",
              "    City_Category  Rainfall  House_Price  \n",
              "678         CAT A       860     11632000  "
            ]
          },
          "metadata": {},
          "output_type": "display_data"
        }
      ],
      "source": [
        "# show Q1 Q3 and Interquartile from house price\n",
        "\n",
        "Q1 = price2['House_Price'].quantile(0.25)\n",
        "Q3 = price2['House_Price'].quantile(0.75)\n",
        "IQR = Q3 - Q1\n",
        "print(\"Q1 ={}, Q3 ={}, IQR ={}\".format(Q1, Q3, IQR))\n",
        "\n",
        "# show lower outliers\n",
        "print('\\nLower Outliers')\n",
        "outliers_bawah = (price2['House_Price'] < (Q1 - 1.5 * IQR))\n",
        "rumah_potensial = price2.loc[outliers_bawah]\n",
        "display(rumah_potensial)\n",
        "\n",
        "# show upper outliers\n",
        "print('\\nUpper Outliers')\n",
        "outliers_atas = (price2['House_Price'] > (Q3 + 1.5 * IQR))\n",
        "rumah_overprice = price2.loc[outliers_atas]\n",
        "display(rumah_overprice)"
      ]
    },
    {
      "cell_type": "markdown",
      "metadata": {
        "id": "_7SQsJg1vjc_"
      },
      "source": [
        "### 2"
      ]
    },
    {
      "cell_type": "code",
      "execution_count": 16,
      "metadata": {
        "colab": {
          "base_uri": "https://localhost:8080/",
          "height": 386
        },
        "id": "PN9Sz08ltyTF",
        "outputId": "f9de103e-be9e-422c-f1bc-ac1f5db9d27e"
      },
      "outputs": [
        {
          "data": {
            "image/png": "[encoded data removed]",
            "text/plain": [
              "<Figure size 444.675x360 with 1 Axes>"
            ]
          },
          "metadata": {},
          "output_type": "display_data"
        }
      ],
      "source": [
        "p = sns.catplot(x=\"Parking\", y=\"House_Price\", hue=\"City_Category\", kind=\"box\", data=price2)"
      ]
    },
    {
      "cell_type": "markdown",
      "metadata": {
        "id": "79VUUO8HwXd1"
      },
      "source": [
        "#### Subsetting data price2 based on \"City_Category\""
      ]
    },
    {
      "cell_type": "code",
      "execution_count": 17,
      "metadata": {
        "id": "a_A__DA-wK_W"
      },
      "outputs": [],
      "source": [
        "CAT_A = price2.loc[price2['City_Category'] == 'CAT A']\n",
        "CAT_B = price2.loc[price2['City_Category'] == 'CAT B']\n",
        "CAT_C = price2.loc[price2['City_Category'] == 'CAT C']"
      ]
    },
    {
      "cell_type": "code",
      "execution_count": 18,
      "metadata": {
        "colab": {
          "base_uri": "https://localhost:8080/",
          "height": 206
        },
        "id": "zEnI7LZ1wPfd",
        "outputId": "e9ef044f-dd1f-4256-9ce2-63ec47da7f60"
      },
      "outputs": [
        {
          "data": {
            "text/html": [
              "<div>\n",
              "<style scoped>\n",
              "    .dataframe tbody tr th:only-of-type {\n",
              "        vertical-align: middle;\n",
              "    }\n",
              "\n",
              "    .dataframe tbody tr th {\n",
              "        vertical-align: top;\n",
              "    }\n",
              "\n",
              "    .dataframe thead th {\n",
              "        text-align: right;\n",
              "    }\n",
              "</style>\n",
              "<table border=\"1\" class=\"dataframe\">\n",
              "  <thead>\n",
              "    <tr style=\"text-align: right;\">\n",
              "      <th></th>\n",
              "      <th>Dist_Taxi</th>\n",
              "      <th>Dist_Market</th>\n",
              "      <th>Dist_Hospital</th>\n",
              "      <th>Carpet</th>\n",
              "      <th>Builtup</th>\n",
              "      <th>Parking</th>\n",
              "      <th>City_Category</th>\n",
              "      <th>Rainfall</th>\n",
              "      <th>House_Price</th>\n",
              "    </tr>\n",
              "  </thead>\n",
              "  <tbody>\n",
              "    <tr>\n",
              "      <th>2</th>\n",
              "      <td>11001.0</td>\n",
              "      <td>14399.0</td>\n",
              "      <td>16991.0</td>\n",
              "      <td>1340.0</td>\n",
              "      <td>1609.0</td>\n",
              "      <td>Not Provided</td>\n",
              "      <td>CAT A</td>\n",
              "      <td>720</td>\n",
              "      <td>5401000</td>\n",
              "    </tr>\n",
              "    <tr>\n",
              "      <th>6</th>\n",
              "      <td>13153.0</td>\n",
              "      <td>11869.0</td>\n",
              "      <td>17811.0</td>\n",
              "      <td>1542.0</td>\n",
              "      <td>1858.0</td>\n",
              "      <td>No Parking</td>\n",
              "      <td>CAT A</td>\n",
              "      <td>1030</td>\n",
              "      <td>7224000</td>\n",
              "    </tr>\n",
              "    <tr>\n",
              "      <th>10</th>\n",
              "      <td>4278.0</td>\n",
              "      <td>10646.0</td>\n",
              "      <td>8243.0</td>\n",
              "      <td>1187.0</td>\n",
              "      <td>1439.0</td>\n",
              "      <td>Covered</td>\n",
              "      <td>CAT A</td>\n",
              "      <td>1090</td>\n",
              "      <td>7128000</td>\n",
              "    </tr>\n",
              "    <tr>\n",
              "      <th>15</th>\n",
              "      <td>9648.0</td>\n",
              "      <td>14789.0</td>\n",
              "      <td>12812.0</td>\n",
              "      <td>1644.0</td>\n",
              "      <td>1950.0</td>\n",
              "      <td>Covered</td>\n",
              "      <td>CAT A</td>\n",
              "      <td>790</td>\n",
              "      <td>7887000</td>\n",
              "    </tr>\n",
              "    <tr>\n",
              "      <th>16</th>\n",
              "      <td>11079.0</td>\n",
              "      <td>13102.0</td>\n",
              "      <td>13076.0</td>\n",
              "      <td>1578.0</td>\n",
              "      <td>1907.0</td>\n",
              "      <td>Open</td>\n",
              "      <td>CAT A</td>\n",
              "      <td>1440</td>\n",
              "      <td>7725000</td>\n",
              "    </tr>\n",
              "  </tbody>\n",
              "</table>\n",
              "</div>"
            ],
            "text/plain": [
              "    Dist_Taxi  Dist_Market  Dist_Hospital  Carpet  Builtup       Parking  \\\n",
              "2     11001.0      14399.0        16991.0  1340.0   1609.0  Not Provided   \n",
              "6     13153.0      11869.0        17811.0  1542.0   1858.0    No Parking   \n",
              "10     4278.0      10646.0         8243.0  1187.0   1439.0       Covered   \n",
              "15     9648.0      14789.0        12812.0  1644.0   1950.0       Covered   \n",
              "16    11079.0      13102.0        13076.0  1578.0   1907.0          Open   \n",
              "\n",
              "   City_Category  Rainfall  House_Price  \n",
              "2          CAT A       720      5401000  \n",
              "6          CAT A      1030      7224000  \n",
              "10         CAT A      1090      7128000  \n",
              "15         CAT A       790      7887000  \n",
              "16         CAT A      1440      7725000  "
            ]
          },
          "execution_count": 18,
          "metadata": {},
          "output_type": "execute_result"
        }
      ],
      "source": [
        "CAT_A.head()"
      ]
    },
    {
      "cell_type": "code",
      "execution_count": 19,
      "metadata": {
        "colab": {
          "base_uri": "https://localhost:8080/",
          "height": 206
        },
        "id": "glrWYhqlwewo",
        "outputId": "48b2305d-bdfc-47f1-a139-f02a39a04fc3"
      },
      "outputs": [
        {
          "data": {
            "text/html": [
              "<div>\n",
              "<style scoped>\n",
              "    .dataframe tbody tr th:only-of-type {\n",
              "        vertical-align: middle;\n",
              "    }\n",
              "\n",
              "    .dataframe tbody tr th {\n",
              "        vertical-align: top;\n",
              "    }\n",
              "\n",
              "    .dataframe thead th {\n",
              "        text-align: right;\n",
              "    }\n",
              "</style>\n",
              "<table border=\"1\" class=\"dataframe\">\n",
              "  <thead>\n",
              "    <tr style=\"text-align: right;\">\n",
              "      <th></th>\n",
              "      <th>Dist_Taxi</th>\n",
              "      <th>Dist_Market</th>\n",
              "      <th>Dist_Hospital</th>\n",
              "      <th>Carpet</th>\n",
              "      <th>Builtup</th>\n",
              "      <th>Parking</th>\n",
              "      <th>City_Category</th>\n",
              "      <th>Rainfall</th>\n",
              "      <th>House_Price</th>\n",
              "    </tr>\n",
              "  </thead>\n",
              "  <tbody>\n",
              "    <tr>\n",
              "      <th>0</th>\n",
              "      <td>9796.0</td>\n",
              "      <td>5250.0</td>\n",
              "      <td>10703.0</td>\n",
              "      <td>1659.0</td>\n",
              "      <td>1961.0</td>\n",
              "      <td>Open</td>\n",
              "      <td>CAT B</td>\n",
              "      <td>530</td>\n",
              "      <td>6649000</td>\n",
              "    </tr>\n",
              "    <tr>\n",
              "      <th>1</th>\n",
              "      <td>8294.0</td>\n",
              "      <td>8186.0</td>\n",
              "      <td>12694.0</td>\n",
              "      <td>1461.0</td>\n",
              "      <td>1752.0</td>\n",
              "      <td>Not Provided</td>\n",
              "      <td>CAT B</td>\n",
              "      <td>210</td>\n",
              "      <td>3982000</td>\n",
              "    </tr>\n",
              "    <tr>\n",
              "      <th>3</th>\n",
              "      <td>8301.0</td>\n",
              "      <td>11188.0</td>\n",
              "      <td>12289.0</td>\n",
              "      <td>1451.0</td>\n",
              "      <td>1748.0</td>\n",
              "      <td>Covered</td>\n",
              "      <td>CAT B</td>\n",
              "      <td>620</td>\n",
              "      <td>5373000</td>\n",
              "    </tr>\n",
              "    <tr>\n",
              "      <th>4</th>\n",
              "      <td>10510.0</td>\n",
              "      <td>12629.0</td>\n",
              "      <td>13921.0</td>\n",
              "      <td>1770.0</td>\n",
              "      <td>2111.0</td>\n",
              "      <td>Not Provided</td>\n",
              "      <td>CAT B</td>\n",
              "      <td>450</td>\n",
              "      <td>4662000</td>\n",
              "    </tr>\n",
              "    <tr>\n",
              "      <th>5</th>\n",
              "      <td>6665.0</td>\n",
              "      <td>5142.0</td>\n",
              "      <td>9972.0</td>\n",
              "      <td>1442.0</td>\n",
              "      <td>1733.0</td>\n",
              "      <td>Open</td>\n",
              "      <td>CAT B</td>\n",
              "      <td>760</td>\n",
              "      <td>4526000</td>\n",
              "    </tr>\n",
              "  </tbody>\n",
              "</table>\n",
              "</div>"
            ],
            "text/plain": [
              "   Dist_Taxi  Dist_Market  Dist_Hospital  Carpet  Builtup       Parking  \\\n",
              "0     9796.0       5250.0        10703.0  1659.0   1961.0          Open   \n",
              "1     8294.0       8186.0        12694.0  1461.0   1752.0  Not Provided   \n",
              "3     8301.0      11188.0        12289.0  1451.0   1748.0       Covered   \n",
              "4    10510.0      12629.0        13921.0  1770.0   2111.0  Not Provided   \n",
              "5     6665.0       5142.0         9972.0  1442.0   1733.0          Open   \n",
              "\n",
              "  City_Category  Rainfall  House_Price  \n",
              "0         CAT B       530      6649000  \n",
              "1         CAT B       210      3982000  \n",
              "3         CAT B       620      5373000  \n",
              "4         CAT B       450      4662000  \n",
              "5         CAT B       760      4526000  "
            ]
          },
          "execution_count": 19,
          "metadata": {},
          "output_type": "execute_result"
        }
      ],
      "source": [
        "CAT_B.head()"
      ]
    },
    {
      "cell_type": "code",
      "execution_count": 20,
      "metadata": {
        "colab": {
          "base_uri": "https://localhost:8080/",
          "height": 206
        },
        "id": "Qd5mK0MnwgsP",
        "outputId": "e02cbfc2-45bf-4eeb-c98b-9a114bdde7fc"
      },
      "outputs": [
        {
          "data": {
            "text/html": [
              "<div>\n",
              "<style scoped>\n",
              "    .dataframe tbody tr th:only-of-type {\n",
              "        vertical-align: middle;\n",
              "    }\n",
              "\n",
              "    .dataframe tbody tr th {\n",
              "        vertical-align: top;\n",
              "    }\n",
              "\n",
              "    .dataframe thead th {\n",
              "        text-align: right;\n",
              "    }\n",
              "</style>\n",
              "<table border=\"1\" class=\"dataframe\">\n",
              "  <thead>\n",
              "    <tr style=\"text-align: right;\">\n",
              "      <th></th>\n",
              "      <th>Dist_Taxi</th>\n",
              "      <th>Dist_Market</th>\n",
              "      <th>Dist_Hospital</th>\n",
              "      <th>Carpet</th>\n",
              "      <th>Builtup</th>\n",
              "      <th>Parking</th>\n",
              "      <th>City_Category</th>\n",
              "      <th>Rainfall</th>\n",
              "      <th>House_Price</th>\n",
              "    </tr>\n",
              "  </thead>\n",
              "  <tbody>\n",
              "    <tr>\n",
              "      <th>7</th>\n",
              "      <td>5882.0</td>\n",
              "      <td>9948.0</td>\n",
              "      <td>13315.0</td>\n",
              "      <td>1261.0</td>\n",
              "      <td>1507.0</td>\n",
              "      <td>Open</td>\n",
              "      <td>CAT C</td>\n",
              "      <td>1020</td>\n",
              "      <td>3772000</td>\n",
              "    </tr>\n",
              "    <tr>\n",
              "      <th>9</th>\n",
              "      <td>8233.0</td>\n",
              "      <td>7067.0</td>\n",
              "      <td>11400.0</td>\n",
              "      <td>1030.0</td>\n",
              "      <td>1235.0</td>\n",
              "      <td>Open</td>\n",
              "      <td>CAT C</td>\n",
              "      <td>1130</td>\n",
              "      <td>4415000</td>\n",
              "    </tr>\n",
              "    <tr>\n",
              "      <th>20</th>\n",
              "      <td>8155.0</td>\n",
              "      <td>8085.0</td>\n",
              "      <td>9837.0</td>\n",
              "      <td>1940.0</td>\n",
              "      <td>2340.0</td>\n",
              "      <td>Covered</td>\n",
              "      <td>CAT C</td>\n",
              "      <td>980</td>\n",
              "      <td>4019000</td>\n",
              "    </tr>\n",
              "    <tr>\n",
              "      <th>21</th>\n",
              "      <td>9669.0</td>\n",
              "      <td>12385.0</td>\n",
              "      <td>13589.0</td>\n",
              "      <td>1421.0</td>\n",
              "      <td>1700.0</td>\n",
              "      <td>No Parking</td>\n",
              "      <td>CAT C</td>\n",
              "      <td>370</td>\n",
              "      <td>4346000</td>\n",
              "    </tr>\n",
              "    <tr>\n",
              "      <th>26</th>\n",
              "      <td>6615.0</td>\n",
              "      <td>8178.0</td>\n",
              "      <td>12804.0</td>\n",
              "      <td>1732.0</td>\n",
              "      <td>2073.0</td>\n",
              "      <td>Not Provided</td>\n",
              "      <td>CAT C</td>\n",
              "      <td>820</td>\n",
              "      <td>7005000</td>\n",
              "    </tr>\n",
              "  </tbody>\n",
              "</table>\n",
              "</div>"
            ],
            "text/plain": [
              "    Dist_Taxi  Dist_Market  Dist_Hospital  Carpet  Builtup       Parking  \\\n",
              "7      5882.0       9948.0        13315.0  1261.0   1507.0          Open   \n",
              "9      8233.0       7067.0        11400.0  1030.0   1235.0          Open   \n",
              "20     8155.0       8085.0         9837.0  1940.0   2340.0       Covered   \n",
              "21     9669.0      12385.0        13589.0  1421.0   1700.0    No Parking   \n",
              "26     6615.0       8178.0        12804.0  1732.0   2073.0  Not Provided   \n",
              "\n",
              "   City_Category  Rainfall  House_Price  \n",
              "7          CAT C      1020      3772000  \n",
              "9          CAT C      1130      4415000  \n",
              "20         CAT C       980      4019000  \n",
              "21         CAT C       370      4346000  \n",
              "26         CAT C       820      7005000  "
            ]
          },
          "execution_count": 20,
          "metadata": {},
          "output_type": "execute_result"
        }
      ],
      "source": [
        "CAT_C.head()"
      ]
    },
    {
      "cell_type": "code",
      "execution_count": 21,
      "metadata": {
        "colab": {
          "base_uri": "https://localhost:8080/",
          "height": 386
        },
        "id": "B4xxpBMBwh7-",
        "outputId": "90895c5e-edaa-4dff-9602-2b0b98e728c4"
      },
      "outputs": [
        {
          "data": {
            "image/png": "[encoded data removed]",
            "text/plain": [
              "<Figure size 360x360 with 1 Axes>"
            ]
          },
          "metadata": {},
          "output_type": "display_data"
        }
      ],
      "source": [
        "p = sns.catplot(x=\"Parking\", y=\"House_Price\", kind=\"box\", data=CAT_A)"
      ]
    },
    {
      "cell_type": "code",
      "execution_count": 22,
      "metadata": {
        "colab": {
          "base_uri": "https://localhost:8080/",
          "height": 386
        },
        "id": "fjVhZM7kwmxN",
        "outputId": "55424dd3-45e1-44bd-e009-cee42c4ddb3a"
      },
      "outputs": [
        {
          "data": {
            "image/png": "[encoded data removed]",
            "text/plain": [
              "<Figure size 360x360 with 1 Axes>"
            ]
          },
          "metadata": {},
          "output_type": "display_data"
        }
      ],
      "source": [
        "p = sns.catplot(x=\"Parking\", y=\"House_Price\", kind=\"box\", data=CAT_B)"
      ]
    },
    {
      "cell_type": "code",
      "execution_count": 23,
      "metadata": {
        "colab": {
          "base_uri": "https://localhost:8080/",
          "height": 386
        },
        "id": "dA1RrgzswokU",
        "outputId": "9642a26b-2480-4b90-9ba8-6a641274c63c"
      },
      "outputs": [
        {
          "data": {
            "image/png": "[encoded data removed]",
            "text/plain": [
              "<Figure size 360x360 with 1 Axes>"
            ]
          },
          "metadata": {},
          "output_type": "display_data"
        }
      ],
      "source": [
        "p = sns.catplot(x=\"Parking\", y=\"House_Price\", kind=\"box\", data=CAT_C)"
      ]
    },
    {
      "cell_type": "code",
      "execution_count": 24,
      "metadata": {
        "colab": {
          "base_uri": "https://localhost:8080/",
          "height": 130
        },
        "id": "Uej8sUuywr3h",
        "outputId": "8c5be1f4-edbe-492a-9b78-0e5b226efd00"
      },
      "outputs": [
        {
          "name": "stdout",
          "output_type": "stream",
          "text": [
            "Q1_A =6600000.0, Q3_A =8184000.0, IQR_A =1584000.0\n"
          ]
        },
        {
          "data": {
            "text/html": [
              "<div>\n",
              "<style scoped>\n",
              "    .dataframe tbody tr th:only-of-type {\n",
              "        vertical-align: middle;\n",
              "    }\n",
              "\n",
              "    .dataframe tbody tr th {\n",
              "        vertical-align: top;\n",
              "    }\n",
              "\n",
              "    .dataframe thead th {\n",
              "        text-align: right;\n",
              "    }\n",
              "</style>\n",
              "<table border=\"1\" class=\"dataframe\">\n",
              "  <thead>\n",
              "    <tr style=\"text-align: right;\">\n",
              "      <th></th>\n",
              "      <th>Dist_Taxi</th>\n",
              "      <th>Dist_Market</th>\n",
              "      <th>Dist_Hospital</th>\n",
              "      <th>Carpet</th>\n",
              "      <th>Builtup</th>\n",
              "      <th>Parking</th>\n",
              "      <th>City_Category</th>\n",
              "      <th>Rainfall</th>\n",
              "      <th>House_Price</th>\n",
              "    </tr>\n",
              "  </thead>\n",
              "  <tbody>\n",
              "    <tr>\n",
              "      <th>409</th>\n",
              "      <td>8773.0</td>\n",
              "      <td>13547.0</td>\n",
              "      <td>15551.0</td>\n",
              "      <td>1509.0</td>\n",
              "      <td>1799.0</td>\n",
              "      <td>No Parking</td>\n",
              "      <td>CAT A</td>\n",
              "      <td>960</td>\n",
              "      <td>3860000</td>\n",
              "    </tr>\n",
              "    <tr>\n",
              "      <th>811</th>\n",
              "      <td>NaN</td>\n",
              "      <td>NaN</td>\n",
              "      <td>NaN</td>\n",
              "      <td>NaN</td>\n",
              "      <td>NaN</td>\n",
              "      <td>Open</td>\n",
              "      <td>CAT A</td>\n",
              "      <td>440</td>\n",
              "      <td>30000</td>\n",
              "    </tr>\n",
              "  </tbody>\n",
              "</table>\n",
              "</div>"
            ],
            "text/plain": [
              "     Dist_Taxi  Dist_Market  Dist_Hospital  Carpet  Builtup     Parking  \\\n",
              "409     8773.0      13547.0        15551.0  1509.0   1799.0  No Parking   \n",
              "811        NaN          NaN            NaN     NaN      NaN        Open   \n",
              "\n",
              "    City_Category  Rainfall  House_Price  \n",
              "409         CAT A       960      3860000  \n",
              "811         CAT A       440        30000  "
            ]
          },
          "metadata": {},
          "output_type": "display_data"
        },
        {
          "data": {
            "text/html": [
              "<div>\n",
              "<style scoped>\n",
              "    .dataframe tbody tr th:only-of-type {\n",
              "        vertical-align: middle;\n",
              "    }\n",
              "\n",
              "    .dataframe tbody tr th {\n",
              "        vertical-align: top;\n",
              "    }\n",
              "\n",
              "    .dataframe thead th {\n",
              "        text-align: right;\n",
              "    }\n",
              "</style>\n",
              "<table border=\"1\" class=\"dataframe\">\n",
              "  <thead>\n",
              "    <tr style=\"text-align: right;\">\n",
              "      <th></th>\n",
              "      <th>Dist_Taxi</th>\n",
              "      <th>Dist_Market</th>\n",
              "      <th>Dist_Hospital</th>\n",
              "      <th>Carpet</th>\n",
              "      <th>Builtup</th>\n",
              "      <th>Parking</th>\n",
              "      <th>City_Category</th>\n",
              "      <th>Rainfall</th>\n",
              "      <th>House_Price</th>\n",
              "    </tr>\n",
              "  </thead>\n",
              "  <tbody>\n",
              "    <tr>\n",
              "      <th>678</th>\n",
              "      <td>7288.0</td>\n",
              "      <td>9560.0</td>\n",
              "      <td>12531.0</td>\n",
              "      <td>1989.0</td>\n",
              "      <td>2414.0</td>\n",
              "      <td>No Parking</td>\n",
              "      <td>CAT A</td>\n",
              "      <td>860</td>\n",
              "      <td>11632000</td>\n",
              "    </tr>\n",
              "  </tbody>\n",
              "</table>\n",
              "</div>"
            ],
            "text/plain": [
              "     Dist_Taxi  Dist_Market  Dist_Hospital  Carpet  Builtup     Parking  \\\n",
              "678     7288.0       9560.0        12531.0  1989.0   2414.0  No Parking   \n",
              "\n",
              "    City_Category  Rainfall  House_Price  \n",
              "678         CAT A       860     11632000  "
            ]
          },
          "metadata": {},
          "output_type": "display_data"
        }
      ],
      "source": [
        "# Show Q1 Q3 and Interquartile (IQR) in CAT A\n",
        "Q1_A = CAT_A['House_Price'].quantile(0.25)\n",
        "Q3_A = CAT_A['House_Price'].quantile(0.75)\n",
        "IQR_A = Q3_A - Q1_A\n",
        "print(\"Q1_A ={}, Q3_A ={}, IQR_A ={}\".format(Q1_A, Q3_A, IQR_A))\n",
        "\n",
        "#Lower Outliers CAT A\n",
        "outliers_bawah_A = (CAT_A['House_Price'] < (Q1_A - 1.5 * IQR_A))\n",
        "rumah_potensial_A = CAT_A.loc[outliers_bawah_A]\n",
        "display(rumah_potensial_A)\n",
        "\n",
        "#Upper Outliers CAT A\n",
        "outliers_atas_A = (CAT_A['House_Price'] > (Q3_A + 1.5 * IQR_A))\n",
        "rumah_overprice_A = CAT_A.loc[outliers_atas_A]\n",
        "display(rumah_overprice_A)"
      ]
    },
    {
      "cell_type": "code",
      "execution_count": 25,
      "metadata": {},
      "outputs": [
        {
          "name": "stdout",
          "output_type": "stream",
          "text": [
            "Q1_B =4617750.0, Q3_B =6378500.0, IQR_B =1760750.0\n"
          ]
        },
        {
          "data": {
            "text/html": [
              "<div>\n",
              "<style scoped>\n",
              "    .dataframe tbody tr th:only-of-type {\n",
              "        vertical-align: middle;\n",
              "    }\n",
              "\n",
              "    .dataframe tbody tr th {\n",
              "        vertical-align: top;\n",
              "    }\n",
              "\n",
              "    .dataframe thead th {\n",
              "        text-align: right;\n",
              "    }\n",
              "</style>\n",
              "<table border=\"1\" class=\"dataframe\">\n",
              "  <thead>\n",
              "    <tr style=\"text-align: right;\">\n",
              "      <th></th>\n",
              "      <th>Dist_Taxi</th>\n",
              "      <th>Dist_Market</th>\n",
              "      <th>Dist_Hospital</th>\n",
              "      <th>Carpet</th>\n",
              "      <th>Builtup</th>\n",
              "      <th>Parking</th>\n",
              "      <th>City_Category</th>\n",
              "      <th>Rainfall</th>\n",
              "      <th>House_Price</th>\n",
              "    </tr>\n",
              "  </thead>\n",
              "  <tbody>\n",
              "  </tbody>\n",
              "</table>\n",
              "</div>"
            ],
            "text/plain": [
              "Empty DataFrame\n",
              "Columns: [Dist_Taxi, Dist_Market, Dist_Hospital, Carpet, Builtup, Parking, City_Category, Rainfall, House_Price]\n",
              "Index: []"
            ]
          },
          "metadata": {},
          "output_type": "display_data"
        },
        {
          "data": {
            "text/html": [
              "<div>\n",
              "<style scoped>\n",
              "    .dataframe tbody tr th:only-of-type {\n",
              "        vertical-align: middle;\n",
              "    }\n",
              "\n",
              "    .dataframe tbody tr th {\n",
              "        vertical-align: top;\n",
              "    }\n",
              "\n",
              "    .dataframe thead th {\n",
              "        text-align: right;\n",
              "    }\n",
              "</style>\n",
              "<table border=\"1\" class=\"dataframe\">\n",
              "  <thead>\n",
              "    <tr style=\"text-align: right;\">\n",
              "      <th></th>\n",
              "      <th>Dist_Taxi</th>\n",
              "      <th>Dist_Market</th>\n",
              "      <th>Dist_Hospital</th>\n",
              "      <th>Carpet</th>\n",
              "      <th>Builtup</th>\n",
              "      <th>Parking</th>\n",
              "      <th>City_Category</th>\n",
              "      <th>Rainfall</th>\n",
              "      <th>House_Price</th>\n",
              "    </tr>\n",
              "  </thead>\n",
              "  <tbody>\n",
              "    <tr>\n",
              "      <th>725</th>\n",
              "      <td>10989.0</td>\n",
              "      <td>13153.0</td>\n",
              "      <td>13797.0</td>\n",
              "      <td>1645.0</td>\n",
              "      <td>1958.0</td>\n",
              "      <td>Covered</td>\n",
              "      <td>CAT B</td>\n",
              "      <td>530</td>\n",
              "      <td>9336000</td>\n",
              "    </tr>\n",
              "    <tr>\n",
              "      <th>763</th>\n",
              "      <td>8274.0</td>\n",
              "      <td>11673.0</td>\n",
              "      <td>13345.0</td>\n",
              "      <td>1641.0</td>\n",
              "      <td>1999.0</td>\n",
              "      <td>Covered</td>\n",
              "      <td>CAT B</td>\n",
              "      <td>950</td>\n",
              "      <td>9300000</td>\n",
              "    </tr>\n",
              "    <tr>\n",
              "      <th>930</th>\n",
              "      <td>15082.0</td>\n",
              "      <td>14700.0</td>\n",
              "      <td>19617.0</td>\n",
              "      <td>1299.0</td>\n",
              "      <td>1560.0</td>\n",
              "      <td>Open</td>\n",
              "      <td>CAT B</td>\n",
              "      <td>770</td>\n",
              "      <td>9661000</td>\n",
              "    </tr>\n",
              "  </tbody>\n",
              "</table>\n",
              "</div>"
            ],
            "text/plain": [
              "     Dist_Taxi  Dist_Market  Dist_Hospital  Carpet  Builtup  Parking  \\\n",
              "725    10989.0      13153.0        13797.0  1645.0   1958.0  Covered   \n",
              "763     8274.0      11673.0        13345.0  1641.0   1999.0  Covered   \n",
              "930    15082.0      14700.0        19617.0  1299.0   1560.0     Open   \n",
              "\n",
              "    City_Category  Rainfall  House_Price  \n",
              "725         CAT B       530      9336000  \n",
              "763         CAT B       950      9300000  \n",
              "930         CAT B       770      9661000  "
            ]
          },
          "metadata": {},
          "output_type": "display_data"
        }
      ],
      "source": [
        "# Show Q1 Q3 and Interquartile (IQR) in CAT B\n",
        "Q1_B = CAT_B['House_Price'].quantile(0.25)\n",
        "Q3_B = CAT_B['House_Price'].quantile(0.75)\n",
        "IQR_B = Q3_B - Q1_B\n",
        "print(\"Q1_B ={}, Q3_B ={}, IQR_B ={}\".format(Q1_B, Q3_B, IQR_B))\n",
        "\n",
        "#Lower Outliers CAT B\n",
        "outliers_bawah_B = (CAT_B['House_Price'] < (Q1_B - 1.5 * IQR_B))\n",
        "rumah_potensial_B = CAT_B.loc[outliers_bawah_B]\n",
        "display(rumah_potensial_B)\n",
        "\n",
        "#Upper Outliers CAT B\n",
        "outliers_atas_B = (CAT_B['House_Price'] > (Q3_B + 1.5 * IQR_B))\n",
        "rumah_overprice_B = CAT_B.loc[outliers_atas_B]\n",
        "display(rumah_overprice_B)"
      ]
    },
    {
      "cell_type": "code",
      "execution_count": 26,
      "metadata": {},
      "outputs": [
        {
          "name": "stdout",
          "output_type": "stream",
          "text": [
            "Q1_C =3642500.0, Q3_C =5244500.0, IQR_C =1602000.0\n"
          ]
        },
        {
          "data": {
            "text/html": [
              "<div>\n",
              "<style scoped>\n",
              "    .dataframe tbody tr th:only-of-type {\n",
              "        vertical-align: middle;\n",
              "    }\n",
              "\n",
              "    .dataframe tbody tr th {\n",
              "        vertical-align: top;\n",
              "    }\n",
              "\n",
              "    .dataframe thead th {\n",
              "        text-align: right;\n",
              "    }\n",
              "</style>\n",
              "<table border=\"1\" class=\"dataframe\">\n",
              "  <thead>\n",
              "    <tr style=\"text-align: right;\">\n",
              "      <th></th>\n",
              "      <th>Dist_Taxi</th>\n",
              "      <th>Dist_Market</th>\n",
              "      <th>Dist_Hospital</th>\n",
              "      <th>Carpet</th>\n",
              "      <th>Builtup</th>\n",
              "      <th>Parking</th>\n",
              "      <th>City_Category</th>\n",
              "      <th>Rainfall</th>\n",
              "      <th>House_Price</th>\n",
              "    </tr>\n",
              "  </thead>\n",
              "  <tbody>\n",
              "  </tbody>\n",
              "</table>\n",
              "</div>"
            ],
            "text/plain": [
              "Empty DataFrame\n",
              "Columns: [Dist_Taxi, Dist_Market, Dist_Hospital, Carpet, Builtup, Parking, City_Category, Rainfall, House_Price]\n",
              "Index: []"
            ]
          },
          "metadata": {},
          "output_type": "display_data"
        },
        {
          "data": {
            "text/html": [
              "<div>\n",
              "<style scoped>\n",
              "    .dataframe tbody tr th:only-of-type {\n",
              "        vertical-align: middle;\n",
              "    }\n",
              "\n",
              "    .dataframe tbody tr th {\n",
              "        vertical-align: top;\n",
              "    }\n",
              "\n",
              "    .dataframe thead th {\n",
              "        text-align: right;\n",
              "    }\n",
              "</style>\n",
              "<table border=\"1\" class=\"dataframe\">\n",
              "  <thead>\n",
              "    <tr style=\"text-align: right;\">\n",
              "      <th></th>\n",
              "      <th>Dist_Taxi</th>\n",
              "      <th>Dist_Market</th>\n",
              "      <th>Dist_Hospital</th>\n",
              "      <th>Carpet</th>\n",
              "      <th>Builtup</th>\n",
              "      <th>Parking</th>\n",
              "      <th>City_Category</th>\n",
              "      <th>Rainfall</th>\n",
              "      <th>House_Price</th>\n",
              "    </tr>\n",
              "  </thead>\n",
              "  <tbody>\n",
              "    <tr>\n",
              "      <th>346</th>\n",
              "      <td>9119.0</td>\n",
              "      <td>11639.0</td>\n",
              "      <td>14374.0</td>\n",
              "      <td>1633.0</td>\n",
              "      <td>1968.0</td>\n",
              "      <td>Open</td>\n",
              "      <td>CAT C</td>\n",
              "      <td>330</td>\n",
              "      <td>8147000</td>\n",
              "    </tr>\n",
              "    <tr>\n",
              "      <th>847</th>\n",
              "      <td>8740.0</td>\n",
              "      <td>10899.0</td>\n",
              "      <td>13447.0</td>\n",
              "      <td>1873.0</td>\n",
              "      <td>2252.0</td>\n",
              "      <td>Covered</td>\n",
              "      <td>CAT C</td>\n",
              "      <td>330</td>\n",
              "      <td>7931000</td>\n",
              "    </tr>\n",
              "  </tbody>\n",
              "</table>\n",
              "</div>"
            ],
            "text/plain": [
              "     Dist_Taxi  Dist_Market  Dist_Hospital  Carpet  Builtup  Parking  \\\n",
              "346     9119.0      11639.0        14374.0  1633.0   1968.0     Open   \n",
              "847     8740.0      10899.0        13447.0  1873.0   2252.0  Covered   \n",
              "\n",
              "    City_Category  Rainfall  House_Price  \n",
              "346         CAT C       330      8147000  \n",
              "847         CAT C       330      7931000  "
            ]
          },
          "metadata": {},
          "output_type": "display_data"
        }
      ],
      "source": [
        "# Show Q1 Q3 and Interquartile (IQR) in CAT C\n",
        "Q1_C = CAT_C['House_Price'].quantile(0.25)\n",
        "Q3_C = CAT_C['House_Price'].quantile(0.75)\n",
        "IQR_C = Q3_C - Q1_C\n",
        "print(\"Q1_C ={}, Q3_C ={}, IQR_C ={}\".format(Q1_C, Q3_C, IQR_C))\n",
        "\n",
        "#Lower Outliers CAT C\n",
        "outliers_bawah_C = (CAT_C['House_Price'] < (Q1_C - 1.5 * IQR_C))\n",
        "rumah_potensial_C = CAT_C.loc[outliers_bawah_C]\n",
        "display(rumah_potensial_C)\n",
        "\n",
        "#Upper Outliers CAT C\n",
        "outliers_atas_C = (CAT_C['House_Price'] > (Q3_C + 1.5 * IQR_C))\n",
        "rumah_overprice_C = CAT_C.loc[outliers_atas_C]\n",
        "display(rumah_overprice_C)"
      ]
    }
  ],
  "metadata": {
    "colab": {
      "authorship_tag": "ABX9TyO54it3LMlYScYAL3++LUWO",
      "collapsed_sections": [],
      "include_colab_link": true,
      "name": "Tugas_1_EDA_Grup B.ipynb",
      "provenance": []
    },
    "kernelspec": {
      "display_name": "Python 3.10.1 64-bit",
      "language": "python",
      "name": "python3"
    },
    "language_info": {
      "codemirror_mode": {
        "name": "ipython",
        "version": 3
      },
      "file_extension": ".py",
      "mimetype": "text/x-python",
      "name": "python",
      "nbconvert_exporter": "python",
      "pygments_lexer": "ipython3",
      "version": "3.10.1"
    },
    "vscode": {
      "interpreter": {
        "hash": "209565b58a505ff4d90712c540e0a7e0c60f2874fda309f796ea191eb82c03e7"
      }
    }
  },
  "nbformat": 4,
  "nbformat_minor": 0
}

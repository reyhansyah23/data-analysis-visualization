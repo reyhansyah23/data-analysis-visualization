{
 "cells": [
  {
   "cell_type": "code",
   "execution_count": 1,
   "metadata": {},
   "outputs": [],
   "source": [
    "import warnings; warnings.simplefilter('ignore')\n",
    "import pandas as pd, matplotlib.pyplot as plt, seaborn as sns, numpy as np\n",
    "import matplotlib.cm as cm\n",
    "from collections import Counter\n",
    "plt.style.use('bmh'); sns.set()"
   ]
  },
  {
   "cell_type": "markdown",
   "metadata": {},
   "source": [
    "#### Case Study: Restaurant Tips Dataset\n",
    "\n",
    "Variable in this dataset with its detail:\n",
    "*\ttotal_bill: Total bill (cost of the meal), including tax, in US dollars\n",
    "*\ttip: Tip (gratuity) in US dollars\n",
    "*\tsex: Sex of person paying for the meal (0=male, 1=female)\n",
    "*\tsmoker: Smoker in party? (0=No, 1=Yes)\n",
    "*\tday: 3=Thur, 4=Fri, 5=Sat, 6=Sun\n",
    "*\ttime: 0=Day, 1=Night\n",
    "*\tsize: Size of the party\n",
    "\n",
    "https://www.kaggle.com/ranjeetjain3/seaborn-tips-dataset"
   ]
  },
  {
   "cell_type": "code",
   "execution_count": null,
   "metadata": {},
   "outputs": [],
   "source": [
    "tips = sns.load_dataset('tips') # Load dataset from SeaBorn library's\n",
    "# Data size\n",
    "N, P = tips.shape\n",
    "print('rows = ', N, ', columns = ', P)\n",
    "\n",
    "tips.head()"
   ]
  },
  {
   "cell_type": "markdown",
   "metadata": {},
   "source": [
    "#### Latihan:\n",
    "\n",
    "#### Silahkan Latihan untuk menjawab pertanyaan-pertanyaan berikut:\n",
    "\n",
    "1. Adakah tipe variabel yang kurang tepat di data tersebut?\n",
    "2. Apakah data numeriknya cenderung berdistribusi normal?\n",
    "3. Apakah ada outlier, noise, missing values, dan-atau duplikasi data?\n",
    "4. Apakah pelanggan pria dan wanita cenderung proporsional (balance)?\n",
    "5. Dari data yang ada apakah Pria atau wanita ada kecenderungan memberi tips lebih besar?\n",
    "6. Dari data yang ada apakah ada kecenderungan tips lebih besar di hari-hari tertentu?\n",
    "7. Dari data yang ada apakah customer perokok cenderung memberi tips lebih besar?\n",
    "8. Apakah pola di nomer 5 dan 7 dipengaruhi hari?\n",
    "9. Pola apalagi yang dapat anda temukan? (misal, bisakah anda menyarankan tata letak kursi/meja restaurant dari data ini?)\n",
    "9. Final question: dari hasil EDA anda saran apa saja yang akan anda berikan ke pemilik restaurant? \n",
    "\n",
    "* Skills/kompetensi apa yang terasa sangat diperlukan dari latihan ini?"
   ]
  },
  {
   "cell_type": "markdown",
   "metadata": {},
   "source": [
    "1. Adakah tipe variabel yang kurang tepat di data tersebut?"
   ]
  },
  {
   "cell_type": "code",
   "execution_count": null,
   "metadata": {},
   "outputs": [],
   "source": [
    "tips.info()"
   ]
  },
  {
   "cell_type": "code",
   "execution_count": null,
   "metadata": {},
   "outputs": [],
   "source": [
    "tips[\"size\"].unique()"
   ]
  },
  {
   "cell_type": "markdown",
   "metadata": {},
   "source": [
    "Dari data tersebut, variabel \"size\" ada indikasi tipe variabelnya berupa kategorik, karena nilai datanya tidak disertai satuan ukuran tertentu. Rentang nilai dari data \"size\" tersebut juga berada pada rentang 1 sampai 6 sehingga menurut kami nilai dari \"size\" menunjukkan kategori tertentu"
   ]
  },
  {
   "cell_type": "markdown",
   "metadata": {},
   "source": [
    "2. Apakah data numeriknya cenderung berdistribusi normal?"
   ]
  },
  {
   "cell_type": "code",
   "execution_count": null,
   "metadata": {},
   "outputs": [],
   "source": [
    "sns.distplot( a=tips[\"total_bill\"])"
   ]
  },
  {
   "cell_type": "code",
   "execution_count": null,
   "metadata": {},
   "outputs": [],
   "source": [
    "sns.distplot( a=tips[\"tip\"])"
   ]
  },
  {
   "cell_type": "code",
   "execution_count": null,
   "metadata": {},
   "outputs": [],
   "source": [
    "tips.describe()"
   ]
  },
  {
   "cell_type": "markdown",
   "metadata": {},
   "source": [
    "Dari dua (2) data numerik tersebut (\"total_bill\" & 'tip\") tidak berdistribusi normal karena terlihat bahwa pola grafiknya cenderung ke kiri (skewness left). Selain itu dapat juga dilihat pada statistik deskriptif bahwa nilai rata-rata dari dua variabel tersebut lebih besar dari standar deviasi (std)nya sehingga data cenderung berada di sebelah kiri"
   ]
  },
  {
   "cell_type": "markdown",
   "metadata": {},
   "source": [
    "3. Apakah ada outlier, noise, missing values, dan-atau duplikasi data?"
   ]
  },
  {
   "cell_type": "code",
   "execution_count": null,
   "metadata": {},
   "outputs": [],
   "source": [
    "#Mengecek outlier pada \"total_bill\"\n",
    "sns.boxplot( y=tips[\"total_bill\"])"
   ]
  },
  {
   "cell_type": "code",
   "execution_count": null,
   "metadata": {},
   "outputs": [],
   "source": [
    "#Mengecek outlier pada \"tip\"\n",
    "sns.boxplot( y=tips[\"tip\"])"
   ]
  },
  {
   "cell_type": "code",
   "execution_count": null,
   "metadata": {},
   "outputs": [],
   "source": [
    "#Mengecek nilai dari setiap column untuk mengecek apakah ada data noise\n",
    "print(\"=============================Data total_bill=============================\\n\" + str(tips[\"total_bill\"].unique()))\n",
    "print(\"\\n================================Data tip================================\\n\" + str(tips[\"tip\"].unique()))\n",
    "print(\"\\n================================Data sex================================\\n\" + str(tips[\"sex\"].unique()))\n",
    "print(\"\\n================================Data smoker================================\\n\" + str(tips[\"smoker\"].unique()))\n",
    "print(\"\\n================================Data day================================\\n\" + str(tips[\"day\"].unique()))\n",
    "print(\"\\n================================Data time================================\\n\" + str(tips[\"time\"].unique()))\n",
    "print(\"\\n================================Data size================================\\n\" + str(tips[\"size\"].unique()))"
   ]
  },
  {
   "cell_type": "code",
   "execution_count": null,
   "metadata": {},
   "outputs": [],
   "source": [
    "#Mengecek missing values pada data\n",
    "tips.isnull().sum()"
   ]
  },
  {
   "cell_type": "code",
   "execution_count": null,
   "metadata": {},
   "outputs": [],
   "source": [
    "#Mengecek data duplikat\n",
    "tips.duplicated().sum()"
   ]
  },
  {
   "cell_type": "code",
   "execution_count": null,
   "metadata": {},
   "outputs": [],
   "source": [
    "4. Apakah pelanggan pria dan wanita cenderung proporsional (balance)?\n",
    "plt.figure(figsize=(8,6))\n",
    "p = sns.countplot(x=\"sex\", data=tips)\n",
    "Dilihat pada grafik tersebut pelanggan pria cenderung lebih banyak dibanding pelanggan wanita\n",
    "5. Dari data yang ada apakah Pria atau wanita ada kecenderungan memberi tips lebih besar?\n",
    "tips = sns.load_dataset(\"tips\")\n",
    "sns.catplot(x=\"sex\", y=\"tip\", data=tips)\n",
    "Dilihat pada plot tersebut bahwa pelanggan pria cenderung lebih besar dalam memberikan tip\n",
    "6. Dari data yang ada apakah ada kecenderungan tips lebih besar di hari-hari tertentu?\n",
    "tips = sns.load_dataset(\"tips\")\n",
    "sns.catplot(x=\"day\", y=\"tip\", data=tips)\n",
    "Dilihat pada plot tersebut bahwa pelanggan pada hari sabtu cenderung lebih besar dalam memberikan tip dibandingkan dengan hari-hari lain\n",
    "7. Dari data yang ada apakah customer perokok cenderung memberi tips lebih besar?\n",
    "tips = sns.load_dataset(\"tips\")\n",
    "sns.catplot(x=\"smoker\", y=\"tip\", data=tips)\n",
    "Dilihat pada plot tersebut bahwa tidak terdapat perbedaan yang signifikan terhadap pelanggan smoker dan non-smoker dalam memberikan tip\n",
    "8. Apakah pola di nomer 5 dan 7 dipengaruhi hari?\n",
    "tips = sns.load_dataset(\"tips\")\n",
    "sns.catplot(x=\"day\", y=\"tip\", hue=\"sex\", data=tips)\n",
    "tips = sns.load_dataset(\"tips\")\n",
    "sns.catplot(x=\"day\", y=\"tip\", hue=\"smoker\", data=tips)\n",
    "Dilihat pada plot tersebut bahwa dari pola nomor 5 (berdasarkan jenis kelamin) dan pola nomor 7 (berdasarkan smoker/non-smoker) menunjukkan bahwa hari Sabtu pelanggan-pelanggan berdasarkan kategori tersebut cenderung memberikan tips lebih besar\n",
    "9. Pola apalagi yang dapat anda temukan? (misal, bisakah anda menyarankan tata letak kursi/meja restaurant dari data ini?)\n",
    "from statsmodels.graphics.mosaicplot import mosaic\n",
    "p = mosaic(tips, ['sex','smoker','time',])\n",
    "p = mosaic(tips, ['day','smoker'])\n",
    "p = mosaic(tips, ['sex','day'])\n",
    "tips = sns.load_dataset(\"tips\")\n",
    "sns.catplot(x=\"size\", y=\"total_bill\", data=tips)\n",
    "Dari grafik-grafik tersebut kami dapat menemukan:\n",
    "\n",
    "\n",
    "1.   Dilihat dari jumlah pelanggan berdasarkan kategori smoker, maka dari itu penataan meja/kursi bisa lebih banyak di non-smoking area pada hari Minggu, dan Kamis dan penataan meja/kursi lebih banyak di smoking area pada hari Jumat\n",
    "2.   Dilihat berdasarkan kategori waktu (lunch/dinner), pelanggan cenderung lebih banyak datang saat jam makan malam (dinner) sehingga diperlukan jumlah staff yang lebih banyak pada malam hari\n",
    "3. Dilihat dari penyebaran data total_bill berdasarkan kategori size ditemukan bahwa semakin besar sizenya maka nilai/batas bawah total_bill semakin meningkat\n",
    "\n",
    "\n",
    "10. Final question: dari hasil EDA anda saran apa saja yang akan anda berikan ke pemilik restaurant? \n",
    "tips = sns.load_dataset(\"tips\")\n",
    "sns.catplot(x=\"day\", y=\"total_bill\", data=tips)\n",
    "plt.figure(figsize=(8,6))\n",
    "p = sns.countplot(x=\"day\", data=tips)\n",
    "Dari grafik-grafik tersebut kami dapat memberikan saran, yaitu:\n",
    "\n",
    "\n",
    "1.   Restoran dapat memberikan promo atau diskon tertentu di hari Jumat untuk meningkatkan jumlah pelanggan maupun pendapatannya\n",
    "2.   Restoran dapat menambah hari dibukanya restoran untuk meningkatkan pendapatan\n",
    "Skills/kompetensi apa yang terasa sangat diperlukan dari latihan ini?\n",
    "Skills yang diperlukan dalam melakukan latihan ini yaitu kemampuan analisa dalam membaca grafik atau visualisasi data, juga diperlukan kemampuan dasar dalam bahasa pemrograman python"
   ]
  }
 ],
 "metadata": {
  "kernelspec": {
   "display_name": "Python 3.10.1 64-bit",
   "language": "python",
   "name": "python3"
  },
  "language_info": {
   "codemirror_mode": {
    "name": "ipython",
    "version": 3
   },
   "file_extension": ".py",
   "mimetype": "text/x-python",
   "name": "python",
   "nbconvert_exporter": "python",
   "pygments_lexer": "ipython3",
   "version": "3.10.1"
  },
  "orig_nbformat": 4,
  "vscode": {
   "interpreter": {
    "hash": "209565b58a505ff4d90712c540e0a7e0c60f2874fda309f796ea191eb82c03e7"
   }
  }
 },
 "nbformat": 4,
 "nbformat_minor": 2
}
